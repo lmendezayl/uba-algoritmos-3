{
  "nbformat": 4,
  "nbformat_minor": 0,
  "metadata": {
    "colab": {
      "provenance": [],
      "authorship_tag": "ABX9TyNyjgLkNIv4mEtW4ESCv2b1",
      "include_colab_link": true
    },
    "kernelspec": {
      "name": "python3",
      "display_name": "Python 3"
    },
    "language_info": {
      "name": "python"
    }
  },
  "cells": [
    {
      "cell_type": "markdown",
      "metadata": {
        "id": "view-in-github",
        "colab_type": "text"
      },
      "source": [
        "<a href=\"https://colab.research.google.com/github/lmendezayl/uba-algoritmos-3/blob/main/guais/soluciones/guia1.ipynb\" target=\"_parent\"><img src=\"https://colab.research.google.com/assets/colab-badge.svg\" alt=\"Open In Colab\"/></a>"
      ]
    },
    {
      "cell_type": "code",
      "source": [
        "def merge_sort(arr):\n",
        "    if len(arr) <= 1:\n",
        "        return arr\n",
        "    medio = len(arr) // 2\n",
        "    mitad_izq = merge_sort(arr[:medio])\n",
        "    mitad_der = merge_sort(arr[medio:])\n",
        "    return merge(mitad_izq, mitad_der)\n",
        "\n",
        "def merge(izq, der):\n",
        "    mergeados = []\n",
        "    i = j = 0\n",
        "    while i < len(izq) and j < len(der):\n",
        "        if izq[i] < der[j]:\n",
        "            mergeados.append(izq[i])\n",
        "            i += 1\n",
        "        else:\n",
        "            mergeados.append(der[j])\n",
        "            j += 1\n",
        "    mergeados.extend(izq[i:])\n",
        "    mergeados.extend(der[j:])\n",
        "    return mergeados"
      ],
      "metadata": {
        "id": "bZhoSVtlo60y"
      },
      "execution_count": null,
      "outputs": []
    },
    {
      "cell_type": "code",
      "source": [
        "def busqueda_binaria(arr, objetivo, izq=0, der=None):\n",
        "    if der is None:\n",
        "        der = len(arr) - 1\n",
        "    if izq > der:\n",
        "        return False # Elemento no encontrado\n",
        "    medio = (izq + der) // 2\n",
        "    if arr[medio] == objetivo:\n",
        "        return medio\n",
        "    elif arr[medio] > objetivo:\n",
        "        return busqueda_binaria(arr, objetivo, izq, medio- 1)\n",
        "    else:\n",
        "        return busqueda_binaria(arr, objetivo, medio + 1, der)"
      ],
      "metadata": {
        "id": "ITGev3ICnFi3"
      },
      "execution_count": null,
      "outputs": []
    },
    {
      "cell_type": "code",
      "execution_count": 5,
      "metadata": {
        "id": "tHH1XP03Zwz5"
      },
      "outputs": [],
      "source": [
        "def izquierdaDominante(arr):\n",
        "    if len(arr) == 1: return True\n",
        "    medio = len(arr)//2\n",
        "    sumaIzq = sum(arr[:medio])\n",
        "    sumaDer = sum(arr[medio:])\n",
        "    return ((sumaIzq > sumaDer)\n",
        "            and izquierdaDominante(arr[:medio])    # llamados recursivos\n",
        "            and izquierdaDominante(arr[medio:]))"
      ]
    },
    {
      "cell_type": "code",
      "source": [
        "def indiceEspejo(arr, izq=0, der=None):\n",
        "    if der is None:\n",
        "        der = len(arr) - 1\n",
        "    if izq > der:\n",
        "        return False # No hay elemento que cumpla lo pedido\n",
        "    medio = (izq + der) // 2\n",
        "    if arr[medio] == medio:\n",
        "        return True\n",
        "    elif arr[medio] < medio:\n",
        "        return indiceEspejo(arr, medio+1, der)\n",
        "    else:\n",
        "        return indiceEspejo(arr, izq, medio-1)"
      ],
      "metadata": {
        "id": "GtLF0WVIaD8r"
      },
      "execution_count": 9,
      "outputs": []
    },
    {
      "cell_type": "code",
      "source": [
        "a = [1,2,3,4]\n",
        "[i - 5 for i in a]"
      ],
      "metadata": {
        "colab": {
          "base_uri": "https://localhost:8080/"
        },
        "id": "nb10OGxblxd4",
        "outputId": "ce43dbd2-18d9-4961-a3cc-ff0d42d4b1c9"
      },
      "execution_count": 10,
      "outputs": [
        {
          "output_type": "execute_result",
          "data": {
            "text/plain": [
              "[-4, -3, -2, -1]"
            ]
          },
          "metadata": {},
          "execution_count": 10
        }
      ]
    },
    {
      "cell_type": "code",
      "source": [],
      "metadata": {
        "id": "pEpAZo7Jl0VC"
      },
      "execution_count": null,
      "outputs": []
    }
  ]
}